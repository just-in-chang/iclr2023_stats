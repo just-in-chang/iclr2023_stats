{
 "cells": [
  {
   "cell_type": "code",
   "execution_count": null,
   "id": "b15b9499",
   "metadata": {},
   "outputs": [],
   "source": [
    "%load_ext autoreload\n",
    "%autoreload 2\n",
    "\n",
    "import re\n",
    "import os\n",
    "import json\n",
    "import time\n",
    "import sqlite3\n",
    "import datetime\n",
    "import operator\n",
    "import requests\n",
    "\n",
    "import openreview\n",
    "\n",
    "import numpy as np\n",
    "from tqdm.notebook import tqdm, trange\n",
    "\n",
    "from selenium import webdriver\n",
    "from selenium.webdriver.chrome.service import Service\n",
    "from selenium.webdriver.chrome.options import Options\n",
    "from selenium.webdriver.common.by import By\n",
    "from selenium.common.exceptions import TimeoutException\n",
    "from selenium.webdriver.support.ui import WebDriverWait\n",
    "from selenium.webdriver.support import expected_conditions as EC\n",
    "\n",
    "# from src import DataBase"
   ]
  },
  {
   "cell_type": "code",
   "execution_count": null,
   "id": "f6e44d6d",
   "metadata": {},
   "outputs": [],
   "source": [
    "# ids from api\n",
    "client = openreview.Client(baseurl='https://api.openreview.net')\n",
    "notes = openreview.tools.iterget_notes(client, invitation='ICLR.cc/2023/Conference/-/Blind_Submission')\n",
    "\n",
    "ids = []\n",
    "for note in notes:\n",
    "    ids.append(note.id)"
   ]
  },
  {
   "cell_type": "code",
   "execution_count": null,
   "id": "b5116889",
   "metadata": {},
   "outputs": [],
   "source": [
    "def get_item_url(panel, url_list, page_id):\n",
    "    # find all items in current page\n",
    "    item_list = panel.find_elements(By.CLASS_NAME, \"note\")\n",
    "    item_list_len = len(item_list)\n",
    "    for i in trange(item_list_len, desc=f\"->{page_id}\"):\n",
    "        # the fist  is the paper title and url\n",
    "        item = item_list[i].find_element(By.TAG_NAME, 'a')\n",
    "        url_list.append(item.get_attribute('href').strip()) \n",
    "        \n",
    "        \n",
    "def get_url_list_for_tab(panel):\n",
    "    # get totoal page number\n",
    "    _right_arrow = panel.find_elements(By.CLASS_NAME, 'right-arrow')[-1]\n",
    "    total_pages = int(_right_arrow.get_attribute('data-page-number'))\n",
    "    \n",
    "    # loop all pages\n",
    "    url_list = []\n",
    "    for page_id in trange(total_pages):\n",
    "        get_item_url(panel, url_list, page_id)\n",
    "        \n",
    "        if page_id == total_pages - 1:\n",
    "            continue\n",
    "        \n",
    "        # the first item\n",
    "        flag = panel.find_element(By.CLASS_NAME, \"note\").text\n",
    "        \n",
    "        time.sleep(1.5)\n",
    "        \n",
    "        # click to jump to next page\n",
    "        next_page_btn = panel.find_element(By.CSS_SELECTOR, \"li[class='  right-arrow']\")\n",
    "        next_page_btn.find_element(By.TAG_NAME, 'a').click()\n",
    "        \n",
    "        # jump to next page\n",
    "        jumped = False\n",
    "        num_try = 0\n",
    "        while not jumped:\n",
    "            time.sleep(1)\n",
    "            _flag = panel.find_element(By.CLASS_NAME, \"note\").text\n",
    "            if _flag != flag:\n",
    "                jumped = True\n",
    "            num_try += 1\n",
    "            if num_try > 1000:\n",
    "                break\n",
    "    \n",
    "    return url_list\n",
    "    "
   ]
  },
  {
   "cell_type": "code",
   "execution_count": null,
   "id": "5f426b43",
   "metadata": {},
   "outputs": [],
   "source": [
    "s = Service('/opt/homebrew/bin/chromedriver')\n",
    "op = Options()\n",
    "op.add_argument('headless')\n",
    "driver = webdriver.Chrome(service=s)\n",
    "driver.get(f'https://openreview.net/group?id=ICLR.cc/2023/Conference#withdrawn-submissions')\n",
    "time.sleep(2)\n",
    "tabpanel = driver.find_element(By.ID, f'withdrawn-submissions')\n",
    "url_list = get_url_list_for_tab(tabpanel)\n",
    "# quit\n",
    "driver.quit()"
   ]
  },
  {
   "cell_type": "code",
   "execution_count": null,
   "id": "ea0e2776",
   "metadata": {},
   "outputs": [],
   "source": [
    "# all submission ids\n",
    "sub_ids = []\n",
    "sub_ids.extend(ids)\n",
    "# withdrawn\n",
    "for x in url_list:\n",
    "    sub_ids.append(x.split('id=')[1])\n",
    "print(len(sub_ids))"
   ]
  },
  {
   "cell_type": "code",
   "execution_count": 35,
   "id": "9c1b183a",
   "metadata": {},
   "outputs": [
    {
     "data": {
      "application/vnd.jupyter.widget-view+json": {
       "model_id": "8111a70ab86e4c00861f526d30e5204f",
       "version_major": 2,
       "version_minor": 0
      },
      "text/plain": [
       "  0%|          | 0/4941 [00:00<?, ?it/s]"
      ]
     },
     "metadata": {},
     "output_type": "display_data"
    }
   ],
   "source": [
    "# filter\n",
    "filter_ids = []\n",
    "for i in trange(len(sub_ids)):\n",
    "    item_id = sub_ids[i]\n",
    "    rqst_url = f\"https://api.openreview.net/notes?forum={item_id}\"\n",
    "    rqst_data = requests.get(rqst_url)\n",
    "    rqst_data = json.loads(rqst_data.text)\n",
    "\n",
    "    # parse each note\n",
    "    meta_note = [d for d in rqst_data['notes'] if 'Paper' not in d['invitation']]\n",
    "    # filter reviewer comments\n",
    "    comment_notes = [d for d in rqst_data['notes'] \\\n",
    "                     if 'Official_Review' in d['invitation'] and 'recommendation' in d['content'].keys()]\n",
    "    if len(comment_notes) > 0:\n",
    "        filter_ids.append(item_id)"
   ]
  },
  {
   "cell_type": "code",
   "execution_count": 37,
   "id": "bb4a1f21",
   "metadata": {},
   "outputs": [],
   "source": [
    "# save to file\n",
    "save_path = f\"../assets/filter_ids_\" \\\n",
    "            f\"{datetime.datetime.now():%Y-%m-%d-%H:%M-UTC}.txt\"\n",
    "with open(save_path, 'w') as f:\n",
    "    f.write('\\n'.join(filter_ids))  "
   ]
  },
  {
   "cell_type": "markdown",
   "id": "c580ef5e",
   "metadata": {},
   "source": [
    "test fetch data"
   ]
  },
  {
   "cell_type": "code",
   "execution_count": 38,
   "id": "1338c1a4",
   "metadata": {},
   "outputs": [],
   "source": [
    "with open('../assets/filter_ids_2022-11-05-19:32-UTC.txt', 'r') as f:\n",
    "    data = f.readlines()"
   ]
  },
  {
   "cell_type": "code",
   "execution_count": 81,
   "id": "7fe5ad32",
   "metadata": {},
   "outputs": [
    {
     "name": "stdout",
     "output_type": "stream",
     "text": [
      "https://openreview.net/forum?id=diOVflNRZnG\n"
     ]
    }
   ],
   "source": [
    "url = f\"https://openreview.net/forum?id={data[9].strip()}\"\n",
    "url = \"https://openreview.net/forum?id=diOVflNRZnG\"\n",
    "print(url)"
   ]
  },
  {
   "cell_type": "code",
   "execution_count": 82,
   "id": "7ce4f5fb",
   "metadata": {},
   "outputs": [],
   "source": [
    "item_id = url.split('id=')[-1]\n",
    "rqst_url = f\"https://api.openreview.net/notes?forum={item_id}\"\n",
    "rqst_data = requests.get(rqst_url)\n",
    "rqst_data = json.loads(rqst_data.text)"
   ]
  },
  {
   "cell_type": "code",
   "execution_count": 83,
   "id": "8e92094f",
   "metadata": {},
   "outputs": [],
   "source": [
    "# parse each note\n",
    "withdraw = 0\n",
    "# filter meta note\n",
    "meta_note = [d for d in rqst_data['notes'] if 'Paper' not in d['invitation']]\n",
    "# check withdrawn\n",
    "withdraw = 1 if 'Withdrawn_Submission' in meta_note[0]['invitation'] else 0\n",
    "# decision\n",
    "# if withdraw == 0:\n",
    "#     decision_note = [d for d in rqst_data['notes'] if 'Decision' in d['invitation']]\n",
    "#     decision = decision_note[0]['content']['decision']\n",
    "# else:\n",
    "#     decision = ''\n",
    "# filter reviewer comments\n",
    "comment_notes = [d for d in rqst_data['notes'] \\\n",
    "                 if 'Official_Review' in d['invitation'] and 'recommendation' in d['content'].keys()]\n",
    "comment_notes = sorted(comment_notes, key=lambda d: d['number'])[::-1]\n",
    "ratings = [int(note['content']['recommendation'].split(':')[0]) for note in comment_notes]"
   ]
  },
  {
   "cell_type": "code",
   "execution_count": 84,
   "id": "7ef1fa70",
   "metadata": {},
   "outputs": [
    {
     "name": "stdout",
     "output_type": "stream",
     "text": [
      "Curvature Informed Furthest Point Sampling\n",
      "['Shubham Bhardwaj', 'Balakrisha Reddy Pailla']\n",
      "['dowsampling', 'point cloud', 'curvature informed', 'shape completion', 'segmentation', 'furthest point sampling']\n"
     ]
    }
   ],
   "source": [
    "title = meta_note[0]['content']['title']\n",
    "print(title)\n",
    "authors = meta_note[0]['content']['authors']\n",
    "print(authors)\n",
    "keywords = meta_note[0]['content']['keywords']\n",
    "print(keywords)"
   ]
  }
 ],
 "metadata": {
  "kernelspec": {
   "display_name": "Python 3 (ipykernel)",
   "language": "python",
   "name": "python3"
  },
  "language_info": {
   "codemirror_mode": {
    "name": "ipython",
    "version": 3
   },
   "file_extension": ".py",
   "mimetype": "text/x-python",
   "name": "python",
   "nbconvert_exporter": "python",
   "pygments_lexer": "ipython3",
   "version": "3.8.10"
  }
 },
 "nbformat": 4,
 "nbformat_minor": 5
}
